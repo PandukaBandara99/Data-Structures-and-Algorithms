{
  "nbformat": 4,
  "nbformat_minor": 0,
  "metadata": {
    "colab": {
      "provenance": [],
      "toc_visible": true,
      "include_colab_link": true
    },
    "kernelspec": {
      "name": "python3",
      "display_name": "Python 3"
    },
    "language_info": {
      "name": "python"
    }
  },
  "cells": [
    {
      "cell_type": "markdown",
      "metadata": {
        "id": "view-in-github",
        "colab_type": "text"
      },
      "source": [
        "<a href=\"https://colab.research.google.com/github/PandukaBandara99/Data-Structures-and-Algorithms/blob/main/AlgorithmsAndDataStructures.ipynb\" target=\"_parent\"><img src=\"https://colab.research.google.com/assets/colab-badge.svg\" alt=\"Open In Colab\"/></a>"
      ]
    },
    {
      "cell_type": "markdown",
      "source": [
        "Mahela Panduka Bandara ; <br> UG @ Dpt. of Electronic & Electrical Engineering ;<br> University of Peradeniya ;<br> 2023/04 <br><br> Email : e19039@end.pdn.ac.lk <br> LinkedIN : https://www.linkedin.com/in/pandukabandara/\n",
        "\n",
        "Reff: \n",
        "1. https://www.geeksforgeeks.org/\n",
        "2. https://www.coursera.org/learn/algorithmic-toolbox\n"
      ],
      "metadata": {
        "id": "d651so02AV_z"
      }
    },
    {
      "cell_type": "markdown",
      "source": [
        "# 1. **Asymptotic Notations**\n"
      ],
      "metadata": {
        "id": "gzoNc4atATbd"
      }
    },
    {
      "cell_type": "markdown",
      "source": [
        "## 1.1 Introduction\n",
        "Asymptotic notation is a way to describe the running time or space complexity of an algorithm based on the input size.The three most commonly used notations are Big O, Omega, and Theta.\n",
        "\n",
        "1. **Big O notation (O)**: This notation provides an upper bound on the growth rate of an algorithm’s running time or space usage. It represents the worst-case scenario, i.e., the maximum amount of time or space an algorithm may need to solve a problem. For example, if an algorithm’s running time is O(n), then it means that the running time of the algorithm increases linearly with the input size n or less.\n",
        "\n",
        "2. **Omega notation (Ω):** This notation provides a lower bound on the growth rate of an algorithm’s running time or space usage. It represents the best-case scenario, i.e., the minimum amount of time or space an algorithm may need to solve a problem. For example, if an algorithm’s running time is Ω(n), then it means that the running time of the algorithm increases linearly with the input size n or more.\n",
        "\n",
        "3. **Theta notation (Θ):** This notation provides both an upper and lower bound on the growth rate of an algorithm’s running time or space usage. It represents the average-case scenario, i.e., the amount of time or space an algorithm typically needs to solve a problem. For example, if an algorithm’s running time is Θ(n), then it means that the running time of the algorithm increases linearly with the input size n."
      ],
      "metadata": {
        "id": "j7rFlcoBeIxS"
      }
    },
    {
      "cell_type": "markdown",
      "source": [
        "### Example\n",
        "\n",
        "Assume Machine A is faster than machine B and algorithm A (say linear) is slower than Algorithm B (Sal logarithmic).  \n",
        "\n",
        "|Input Size\t| Running time on A\t| Running time on B |\n",
        "|-----------|-------------------|-------------------|\n",
        "|10\t        |2 sec\t            | ~ 1 h             |  \n",
        "|100        |\t20 sec            |\t~ 1.8 h           |\n",
        "|10^6       |~ 55.5 h           |\t~ 5.5 h           |\n",
        "|10^9       |\t~ 6.3 years       |\t~ 8.3 h           |\n",
        "\n",
        "\n",
        "So the machine-dependent constants can always be ignored after a certain value of input size. "
      ],
      "metadata": {
        "id": "W0mcsREpf-57"
      }
    },
    {
      "cell_type": "markdown",
      "source": [
        "## 1.2 Advantages and disadvantages\n",
        "\n",
        "**Advantages:**\n",
        "1. Asymptotic analysis provides a high-level understanding of how an algorithm performs with respect to input size.\n",
        "2. It is a useful tool for comparing the efficiency of different algorithms and selecting the best one for a specific problem.\n",
        "3. It helps in predicting how an algorithm will perform on larger input sizes, which is essential for real-world applications.\n",
        "4. Asymptotic analysis is relatively easy to perform and requires only basic mathematical skills.\n",
        "\n",
        "**Disadvantages:**\n",
        "\n",
        "1. Asymptotic analysis does not provide an accurate running time or space usage of an algorithm.\n",
        "2. It assumes that the input size is the only factor that affects an algorithm’s performance, which is not always the case in practice.\n",
        "3. Asymptotic analysis can sometimes be misleading, as two algorithms with the same asymptotic complexity may have different actual running times or space usage.\n",
        "4. It is not always straightforward to determine the best asymptotic complexity for an algorithm, as there may be trade-offs between time and space complexity."
      ],
      "metadata": {
        "id": "-RleBtj2h5-Y"
      }
    },
    {
      "cell_type": "markdown",
      "source": [
        "## 1.3 Worst, Average and Best Case Analysis of Algorithms"
      ],
      "metadata": {
        "id": "EBlPsI_llUHQ"
      }
    },
    {
      "cell_type": "markdown",
      "source": [
        "1. Worst Case Analysis (Mostly used) \n",
        "In the worst-case analysis, we calculate the upper bound on the running time of an algorithm. We must know the case that causes a maximum number of operations to be executed. For Linear Search, the worst case happens when the element to be searched (x) is not present in the array. When x is not present, the search() function compares it with all the elements of arr[] one by one. Therefore, the worst-case time complexity of the linear search would be O(n).\n",
        "\n",
        "2. Best Case Analysis (Very Rarely used) \n",
        "In the best-case analysis, we calculate the lower bound on the running time of an algorithm. We must know the case that causes a minimum number of operations to be executed. In the linear search problem, the best case occurs when x is present at the first location. The number of operations in the best case is constant (not dependent on n). So time complexity in the best case would be Ω(1) \n",
        "\n",
        "3. Average Case Analysis (Rarely used) \n",
        "In average case analysis, we take all possible inputs and calculate the computing time for all of the inputs. Sum all the calculated values and divide the sum by the total number of inputs. We must know (or predict) the distribution of cases. For the linear search problem, let us assume that all cases are uniformly distributed (including the case of x not being present in the array). So we sum all the cases and divide the sum by (n+1). Following is the value of average-case time complexity. \n",
        " \n",
        "\n",
        "Average Case Time = $\\sum_{i=1}^{n}\\frac{\\theta (i)}{(n+1)} = \\frac{\\theta (\\frac{(n+1)*(n+2)}{2})}{(n+1)} = \\theta (n)$"
      ],
      "metadata": {
        "id": "ZrWikVdxGoYP"
      }
    },
    {
      "cell_type": "markdown",
      "source": [
        "### Example 1 : Linear Search "
      ],
      "metadata": {
        "id": "0CjjvTe5G4JB"
      }
    },
    {
      "cell_type": "code",
      "source": [
        "\n",
        "# Python 3 implementation of the approach\n",
        "# Linearly search x in arr[]. If x is present\n",
        "# then return the index, otherwise return -1\n",
        " \n",
        " \n",
        "def search(arr, x):\n",
        "    for index, value in enumerate(arr):\n",
        "        if value == x:\n",
        "            return index\n",
        "    return -1\n",
        " \n",
        " \n",
        "# Driver's Code\n",
        "if __name__ == '__main__':\n",
        "    arr = [1, 10, 30, 15]\n",
        "    x = 30\n",
        " \n",
        "    # Function call\n",
        "    print(x, \"is present at index\",\n",
        "          search(arr, x))"
      ],
      "metadata": {
        "colab": {
          "base_uri": "https://localhost:8080/"
        },
        "id": "hJosAWSBHNJF",
        "outputId": "f3e2cd72-0740-4726-9c95-749b78db467d"
      },
      "execution_count": 1,
      "outputs": [
        {
          "output_type": "stream",
          "name": "stdout",
          "text": [
            "30 is present at index 2\n"
          ]
        }
      ]
    },
    {
      "cell_type": "markdown",
      "source": [
        "**Time Complexity Analysis: (In Big-O notation)**\n",
        "\n",
        "1. **Best Case:** <br>\n",
        "O(1), This will take place if the element to be searched is on the first index of the given list. So, the number of comparisons, in this case, is 1.\n",
        "\n",
        "\n",
        "2. **Average Case: O(n),** <br>\n",
        " This will take place if the element to be searched is on the middle index of the given list.\n",
        "3. **Worst Case: O(n),** <br> \n",
        "This will take place if:\n",
        "> *   The element to be searched is on the last index\n",
        "> *   The element to be searched is not present on the list\n",
        "\n",
        "\n"
      ],
      "metadata": {
        "id": "_CImfBZjHYx7"
      }
    },
    {
      "cell_type": "markdown",
      "source": [
        "## 1.4 Properties of Asymptotic Notations:"
      ],
      "metadata": {
        "id": "8ZKQSD4HIn-m"
      }
    },
    {
      "cell_type": "markdown",
      "source": [
        "### General Properties\n"
      ],
      "metadata": {
        "id": "9gyeVeAHIxfq"
      }
    },
    {
      "cell_type": "markdown",
      "source": [
        "\n",
        "If f(n) is O(g(n)) then a*f(n) is also O(g(n)), where a is a constant. <br>\n",
        "Example: \n",
        "* f(n) = 2n²+5 is O(n²). \n",
        "Then, 7*f(n) = 7(2n²+5) = 14n²+35 is also O(n²).\n",
        "* Similarly, this property satisfies both Θ and Ω notation."
      ],
      "metadata": {
        "id": "wutcK6YKKFuU"
      }
    },
    {
      "cell_type": "markdown",
      "source": [
        "### Transitive Properties\n"
      ],
      "metadata": {
        "id": "26U2Kxa2JioN"
      }
    },
    {
      "cell_type": "markdown",
      "source": [
        "If f(n) is O(g(n)) and g(n) is O(h(n)) then f(n) = O(h(n)). <br>\n",
        "Example\n",
        "* If f(n) = n  ,  g(n) = n²  and  h(n)=n³ <br> n is O(n²) and n² is O(n³) then, n is O(n³)\n",
        "* Similarly, this property satisfies both Θ and Ω notation."
      ],
      "metadata": {
        "id": "yrxiMIJBKHsT"
      }
    },
    {
      "cell_type": "markdown",
      "source": [
        "### Reflexive Properties"
      ],
      "metadata": {
        "id": "tUSkPlT6KJsk"
      }
    },
    {
      "cell_type": "markdown",
      "source": [
        "If f(n) is given then f(n) is O(f(n)). Since MAXIMUM VALUE OF f(n) will be f(n) ITSELF!<br>\n",
        "Hence x = f(n) and y = O(f(n) tie themselves in reflexive relation always. <br>\n",
        "Example \n",
        "* f(n) = n² ; O(n²) i.e O(f(n))"
      ],
      "metadata": {
        "id": "Iu9mlmweKVcp"
      }
    },
    {
      "cell_type": "markdown",
      "source": [
        "### Symmetric Properties\n"
      ],
      "metadata": {
        "id": "-4oJo-GvKctC"
      }
    },
    {
      "cell_type": "markdown",
      "source": [
        "If f(n) is Θ(g(n)) then g(n) is Θ(f(n)). <br>\n",
        "Example\n",
        "* If(n) = n² and g(n) = n²\n",
        "then, f(n) = Θ(n²) and g(n) = Θ(n²)\n",
        "\n",
        "* This property only satisfies for Θ notation."
      ],
      "metadata": {
        "id": "wlCSq3cfK0fD"
      }
    },
    {
      "cell_type": "markdown",
      "source": [
        "### Transpose Symmetric Properties"
      ],
      "metadata": {
        "id": "SmOxDKFkKych"
      }
    },
    {
      "cell_type": "markdown",
      "source": [
        "If f(n) is O(g(n)) then g(n) is Ω (f(n)). <br>\n",
        "Examle \n",
        "* If(n) = n , g(n) = n²\n",
        "then n is O(n²) and n² is Ω (n) \n",
        "\n",
        "* This property only satisfies O and Ω notations."
      ],
      "metadata": {
        "id": "AyyJCRFbK3eq"
      }
    },
    {
      "cell_type": "markdown",
      "source": [
        "### Some More Propertie"
      ],
      "metadata": {
        "id": "i68WY3_ILAd0"
      }
    },
    {
      "cell_type": "markdown",
      "source": [
        "1. If f(n) = O(g(n)) and f(n) = Ω(g(n)) then f(n) = Θ(g(n))\n",
        "2. If f(n) = O(g(n)) and d(n)=O(e(n)) then f(n) + d(n) = O( max( g(n), e(n) )) \n",
        "<br> Example\n",
        " * f(n) = n i.e O(n) \n",
        "   d(n) = n² i.e O(n²) \n",
        "   then f(n) + d(n) = n + n² i.e O(n²)\n",
        "3. If f(n)=O(g(n)) and d(n)=O(e(n)) then f(n) * d(n) = O( g(n) * e(n)) <br>\n",
        "Example \n",
        "  * f(n) = n i.e O(n) \n",
        "d(n) = n² i.e O(n²)\n",
        "then f(n) * d(n) = n * n² = n³ i.e O(n³)\n",
        "\n",
        "  * Note: If  f(n) = O(g(n)) then g(n) = Ω(f(n))  "
      ],
      "metadata": {
        "id": "IfjvBoJKLCdf"
      }
    },
    {
      "cell_type": "markdown",
      "source": [
        "## 1.5 General steps to analyze loops for complexity analysis\n",
        "1. Determine the number of iterations of the loop. This is usually done by analyzing the loop control variables and the loop termination condition.\n",
        "2. Determine the number of operations performed in each iteration of the loop. This can include both arithmetic operations and data access operations, such as array accesses or memory accesses.\n",
        "3. Express the total number of operations performed by the loop as a function of the input size. This may involve using mathematical expressions or finding a closed-form expression for the number of operations performed by the loop.\n",
        "4. Determine the order of growth of the expression for the number of operations performed by the loop. This can be done by using techniques such as big O notation or by finding the dominant term and ignoring lower-order terms."
      ],
      "metadata": {
        "id": "tKB7LbliLvQT"
      }
    },
    {
      "cell_type": "markdown",
      "source": [
        "## 1.6 Basics of Time Complexity"
      ],
      "metadata": {
        "id": "XDpLEMi3MHfK"
      }
    },
    {
      "cell_type": "markdown",
      "source": [
        "### **1. Constant Time Complexity O(1)**"
      ],
      "metadata": {
        "id": "tsgcjfzlMJ-z"
      }
    },
    {
      "cell_type": "markdown",
      "source": [
        "considered as O(1) if it doesn’t contain a loop, recursion, and call to any other non-constant time function. (A loop or recursion that runs a constant number of times is also considered O(1). For example, the following loop is O(1).)\n",
        "\n",
        "\n",
        "\n",
        "```\n",
        "# Here k is a constant\n",
        "for i in range(0, k):\n",
        "    # some O(1) expressions\n",
        "    # This code is contributed by Pushpesh Raj.\n",
        "```\n",
        "\n",
        "For any size of input n , the number of loop cycle count is constant."
      ],
      "metadata": {
        "id": "qVGZpEDeMTyL"
      }
    },
    {
      "cell_type": "markdown",
      "source": [
        "### **2. Linear Time Complexity O(n)**\n"
      ],
      "metadata": {
        "id": "EZwkwzn-NPTd"
      }
    },
    {
      "cell_type": "markdown",
      "source": [
        "The Time Complexity of a loop is considered as O(n) if the loop variables are incremented/decremented by a constant amount. For example following functions have O(n) time complexity. Linear time complexity, denoted as O(n), is a measure of the growth of the running time of an algorithm proportional to the size of the input. In an O(n) algorithm, the running time increases linearly with the size of the input\n",
        "```\n",
        "# Here k is a positive integer constant\n",
        "for i in range(1, n+1, k):\n",
        "    # some O(1) expressions\n",
        "```\n",
        "For n inputs , number of loop cycles are also n.(possible c.n)"
      ],
      "metadata": {
        "id": "ikNLtlZEOI_I"
      }
    },
    {
      "cell_type": "markdown",
      "source": [
        "### **3. Quadratic Time Complexity O($n^c$)**"
      ],
      "metadata": {
        "id": "bFSrA8ziNuS5"
      }
    },
    {
      "cell_type": "markdown",
      "source": [
        "The time complexity is defined as an algorithm whose performance is directly proportional to the squared size of the input data, as in nested loops it is equal to the number of times the innermost statement is executed. For example, the following sample loops have O(n2) time complexity \n",
        "```\n",
        "for i in range(1, n+1, c):\n",
        "    for j in range(1, n+1, c):\n",
        "        # some O(1) expressions\n",
        "```\n",
        "For n number of inputs, loops for $n^2$ times."
      ],
      "metadata": {
        "id": "xwSVk8atOHqo"
      }
    },
    {
      "cell_type": "markdown",
      "source": [
        "### **4. Logarithmic Time Complexity O($Log (n)$)**"
      ],
      "metadata": {
        "id": "9Dwy6L43OiPk"
      }
    },
    {
      "cell_type": "markdown",
      "source": [
        "The time Complexity of a loop is considered as O(Logn) if the loop variables are divided/multiplied by a constant amount. And also for recursive calls in the recursive function, the Time Complexity is considered as O(Logn).\n",
        "```\n",
        "i = 1\n",
        "while(i <= n):\n",
        "    # some O(1) expressions\n",
        "    i = i*c\n",
        "---------------------------------------------------\n",
        "# Recursive function\n",
        "def recurse(n):\n",
        "    if(n == 0):\n",
        "        return\n",
        "    else:\n",
        "        # some O(1) expressions\n",
        "    recurse(n/c)\n",
        "# Here c is positive integer\n",
        "# contant greater than 1\n",
        "# This code is contributed by Pushpesh Raj\n",
        "```"
      ],
      "metadata": {
        "id": "KHFo04gmOnrH"
      }
    },
    {
      "cell_type": "markdown",
      "source": [
        "### **5. Logarithmic Time Complexity O(Log Log n)**\n",
        "The Time Complexity of a loop is considered as O(LogLogn) if the loop variables are reduced/increased exponentially by a constant amount. \n",
        "```\n",
        "# Here c is a constant greater than 1\n",
        "i = 2\n",
        "while(i <= n):\n",
        "    # some O(1) expressions\n",
        "    i = i**c\n",
        "```"
      ],
      "metadata": {
        "id": "mB3XsoMtPAxH"
      }
    },
    {
      "cell_type": "markdown",
      "source": [
        "## 1.7 Additional"
      ],
      "metadata": {
        "id": "wd2K3JdiPZ-j"
      }
    },
    {
      "cell_type": "markdown",
      "source": [
        "1. The worst-case time complexity is the most useful among best, average and worst.We evaluate the situation when values in if-else conditions cause a maximum number of statements to be executed. \n",
        "\n",
        "2. The time complexity of a recursive function can be written as a mathematical recurrence relation\n",
        "\n",
        "3. Algorithms Cheat Sheet\n",
        " \n",
        "| Algorithm |\tBest Case |\tAverage Case\t| Worst Case |\n",
        "  |-----------|-----------|---------------|------------|\n",
        "  | Selection Sort |\tO(n^2)|\tO(n^2)|\tO(n^2)|\n",
        "  |Bubble Sort\t|O(n)\t|O(n^2)|\tO(n^2)|\n",
        "  |Insertion Sort |\tO(n)|\tO(n^2)\t|O(n^2)|\n",
        "  |Tree Sort|\tO(nlogn)|\tO(nlogn)\t|O(n^2)|\n",
        "  |Radix Sort|\tO(dn)\t|O(dn)|\tO(dn)|\n",
        "  |Merge Sort | O(nlogn)|\tO(nlogn)|\tO(nlogn)|\n",
        "  |Heap Sort\t |O(nlogn)|\tO(nlogn)|\tO(nlogn)|\n",
        "  |Quick Sort\t| O(nlogn)|\tO(nlogn)|\tO(n^2)|\n",
        "  |Bucket Sort|\tO(n+k)\t|O(n+k)\t|O(n^2)|\n",
        "  |Counting Sort\t|O(n+k) |\tO(n+k)|\tO(n+k)|"
      ],
      "metadata": {
        "id": "qN2ZSDVhPdCP"
      }
    },
    {
      "cell_type": "markdown",
      "source": [
        "### **Time complexity - Graphical Representation**"
      ],
      "metadata": {
        "id": "gtE-can6Q4p8"
      }
    },
    {
      "cell_type": "markdown",
      "source": [
        "![image.png](data:image/png;base64,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)"
      ],
      "metadata": {
        "id": "F3ad8Ja5Zfkf"
      }
    },
    {
      "cell_type": "code",
      "source": [
        "import numpy as np\n",
        "\n",
        "import plotly.express as px\n",
        "import plotly as plotly\n",
        "import plotly.graph_objs as go\n",
        "x = np.array([1,2,5,6,10,100,1000,10000,1000000000])\n",
        "\n",
        "\n",
        "fig1 = go.Figure()\n",
        "\n",
        "#plot O(n)\n",
        "fig1.add_trace(go.Scatter(x=x, y=x, name=\"$O(n)$\",\n",
        "                    line_shape='spline'))\n",
        "#plot O(n+550)\n",
        "fig1.add_trace(go.Scatter(x=x, y=x+550, name=\"$O(n+550)$\",\n",
        "                    line_shape='spline'))\n",
        "\n",
        "#plot O(n**2)\n",
        "fig1.add_trace(go.Scatter(x=x, y=x**2, name=\"$O(n^2)$\",\n",
        "                    line_shape='spline'))\n",
        "\n",
        "# plot O(ln(n))\n",
        "fig1.add_trace(go.Scatter(x=x, y=np.log(x), name=\"$O(log(n))$\",\n",
        "                    line_shape='spline'))\n",
        "# plot O(n ln(n))\n",
        "fig1.add_trace(go.Scatter(x=x, y=x*(np.log(x)), name=\"$O(n.log(n))$\",          line_shape='spline'))\n",
        "# plot O(n ln(n))\n",
        "fig1.add_trace(go.Scatter(x=x, y=x*(np.log(x)), name=\"$O(n.log(n))$\",  line_shape='spline'))\n",
        "fig1.update_layout( xaxis_title='n',\n",
        "                   yaxis_title='$O$' ,showlegend=True )\n",
        "# Print Figure\n",
        "fig1.show()"
      ],
      "metadata": {
        "colab": {
          "base_uri": "https://localhost:8080/",
          "height": 542
        },
        "id": "YC1OS_BbQ4DD",
        "outputId": "1ddc498a-7e15-4a0a-eef3-24b3e99b7a49"
      },
      "execution_count": 2,
      "outputs": [
        {
          "output_type": "display_data",
          "data": {
            "text/html": [
              "<html>\n",
              "<head><meta charset=\"utf-8\" /></head>\n",
              "<body>\n",
              "    <div>            <script src=\"https://cdnjs.cloudflare.com/ajax/libs/mathjax/2.7.5/MathJax.js?config=TeX-AMS-MML_SVG\"></script><script type=\"text/javascript\">if (window.MathJax && window.MathJax.Hub && window.MathJax.Hub.Config) {window.MathJax.Hub.Config({SVG: {font: \"STIX-Web\"}});}</script>                <script type=\"text/javascript\">window.PlotlyConfig = {MathJaxConfig: 'local'};</script>\n",
              "        <script src=\"https://cdn.plot.ly/plotly-2.18.2.min.js\"></script>                <div id=\"f5086f5f-50b9-4b6d-9839-a67440f0136a\" class=\"plotly-graph-div\" style=\"height:525px; width:100%;\"></div>            <script type=\"text/javascript\">                                    window.PLOTLYENV=window.PLOTLYENV || {};                                    if (document.getElementById(\"f5086f5f-50b9-4b6d-9839-a67440f0136a\")) {                    Plotly.newPlot(                        \"f5086f5f-50b9-4b6d-9839-a67440f0136a\",                        [{\"line\":{\"shape\":\"spline\"},\"name\":\"$O(n)$\",\"x\":[1,2,5,6,10,100,1000,10000,1000000000],\"y\":[1,2,5,6,10,100,1000,10000,1000000000],\"type\":\"scatter\"},{\"line\":{\"shape\":\"spline\"},\"name\":\"$O(n+550)$\",\"x\":[1,2,5,6,10,100,1000,10000,1000000000],\"y\":[551,552,555,556,560,650,1550,10550,1000000550],\"type\":\"scatter\"},{\"line\":{\"shape\":\"spline\"},\"name\":\"$O(n^2)$\",\"x\":[1,2,5,6,10,100,1000,10000,1000000000],\"y\":[1,4,25,36,100,10000,1000000,100000000,1000000000000000000],\"type\":\"scatter\"},{\"line\":{\"shape\":\"spline\"},\"name\":\"$O(log(n))$\",\"x\":[1,2,5,6,10,100,1000,10000,1000000000],\"y\":[0.0,0.6931471805599453,1.6094379124341003,1.791759469228055,2.302585092994046,4.605170185988092,6.907755278982137,9.210340371976184,20.72326583694641],\"type\":\"scatter\"},{\"line\":{\"shape\":\"spline\"},\"name\":\"$O(n.log(n))$\",\"x\":[1,2,5,6,10,100,1000,10000,1000000000],\"y\":[0.0,1.3862943611198906,8.047189562170502,10.75055681536833,23.02585092994046,460.51701859880916,6907.755278982137,92103.40371976183,20723265836.94641],\"type\":\"scatter\"},{\"line\":{\"shape\":\"spline\"},\"name\":\"$O(n.log(n))$\",\"x\":[1,2,5,6,10,100,1000,10000,1000000000],\"y\":[0.0,1.3862943611198906,8.047189562170502,10.75055681536833,23.02585092994046,460.51701859880916,6907.755278982137,92103.40371976183,20723265836.94641],\"type\":\"scatter\"}],                        {\"template\":{\"data\":{\"histogram2dcontour\":[{\"type\":\"histogram2dcontour\",\"colorbar\":{\"outlinewidth\":0,\"ticks\":\"\"},\"colorscale\":[[0.0,\"#0d0887\"],[0.1111111111111111,\"#46039f\"],[0.2222222222222222,\"#7201a8\"],[0.3333333333333333,\"#9c179e\"],[0.4444444444444444,\"#bd3786\"],[0.5555555555555556,\"#d8576b\"],[0.6666666666666666,\"#ed7953\"],[0.7777777777777778,\"#fb9f3a\"],[0.8888888888888888,\"#fdca26\"],[1.0,\"#f0f921\"]]}],\"choropleth\":[{\"type\":\"choropleth\",\"colorbar\":{\"outlinewidth\":0,\"ticks\":\"\"}}],\"histogram2d\":[{\"type\":\"histogram2d\",\"colorbar\":{\"outlinewidth\":0,\"ticks\":\"\"},\"colorscale\":[[0.0,\"#0d0887\"],[0.1111111111111111,\"#46039f\"],[0.2222222222222222,\"#7201a8\"],[0.3333333333333333,\"#9c179e\"],[0.4444444444444444,\"#bd3786\"],[0.5555555555555556,\"#d8576b\"],[0.6666666666666666,\"#ed7953\"],[0.7777777777777778,\"#fb9f3a\"],[0.8888888888888888,\"#fdca26\"],[1.0,\"#f0f921\"]]}],\"heatmap\":[{\"type\":\"heatmap\",\"colorbar\":{\"outlinewidth\":0,\"ticks\":\"\"},\"colorscale\":[[0.0,\"#0d0887\"],[0.1111111111111111,\"#46039f\"],[0.2222222222222222,\"#7201a8\"],[0.3333333333333333,\"#9c179e\"],[0.4444444444444444,\"#bd3786\"],[0.5555555555555556,\"#d8576b\"],[0.6666666666666666,\"#ed7953\"],[0.7777777777777778,\"#fb9f3a\"],[0.8888888888888888,\"#fdca26\"],[1.0,\"#f0f921\"]]}],\"heatmapgl\":[{\"type\":\"heatmapgl\",\"colorbar\":{\"outlinewidth\":0,\"ticks\":\"\"},\"colorscale\":[[0.0,\"#0d0887\"],[0.1111111111111111,\"#46039f\"],[0.2222222222222222,\"#7201a8\"],[0.3333333333333333,\"#9c179e\"],[0.4444444444444444,\"#bd3786\"],[0.5555555555555556,\"#d8576b\"],[0.6666666666666666,\"#ed7953\"],[0.7777777777777778,\"#fb9f3a\"],[0.8888888888888888,\"#fdca26\"],[1.0,\"#f0f921\"]]}],\"contourcarpet\":[{\"type\":\"contourcarpet\",\"colorbar\":{\"outlinewidth\":0,\"ticks\":\"\"}}],\"contour\":[{\"type\":\"contour\",\"colorbar\":{\"outlinewidth\":0,\"ticks\":\"\"},\"colorscale\":[[0.0,\"#0d0887\"],[0.1111111111111111,\"#46039f\"],[0.2222222222222222,\"#7201a8\"],[0.3333333333333333,\"#9c179e\"],[0.4444444444444444,\"#bd3786\"],[0.5555555555555556,\"#d8576b\"],[0.6666666666666666,\"#ed7953\"],[0.7777777777777778,\"#fb9f3a\"],[0.8888888888888888,\"#fdca26\"],[1.0,\"#f0f921\"]]}],\"surface\":[{\"type\":\"surface\",\"colorbar\":{\"outlinewidth\":0,\"ticks\":\"\"},\"colorscale\":[[0.0,\"#0d0887\"],[0.1111111111111111,\"#46039f\"],[0.2222222222222222,\"#7201a8\"],[0.3333333333333333,\"#9c179e\"],[0.4444444444444444,\"#bd3786\"],[0.5555555555555556,\"#d8576b\"],[0.6666666666666666,\"#ed7953\"],[0.7777777777777778,\"#fb9f3a\"],[0.8888888888888888,\"#fdca26\"],[1.0,\"#f0f921\"]]}],\"mesh3d\":[{\"type\":\"mesh3d\",\"colorbar\":{\"outlinewidth\":0,\"ticks\":\"\"}}],\"scatter\":[{\"fillpattern\":{\"fillmode\":\"overlay\",\"size\":10,\"solidity\":0.2},\"type\":\"scatter\"}],\"parcoords\":[{\"type\":\"parcoords\",\"line\":{\"colorbar\":{\"outlinewidth\":0,\"ticks\":\"\"}}}],\"scatterpolargl\":[{\"type\":\"scatterpolargl\",\"marker\":{\"colorbar\":{\"outlinewidth\":0,\"ticks\":\"\"}}}],\"bar\":[{\"error_x\":{\"color\":\"#2a3f5f\"},\"error_y\":{\"color\":\"#2a3f5f\"},\"marker\":{\"line\":{\"color\":\"#E5ECF6\",\"width\":0.5},\"pattern\":{\"fillmode\":\"overlay\",\"size\":10,\"solidity\":0.2}},\"type\":\"bar\"}],\"scattergeo\":[{\"type\":\"scattergeo\",\"marker\":{\"colorbar\":{\"outlinewidth\":0,\"ticks\":\"\"}}}],\"scatterpolar\":[{\"type\":\"scatterpolar\",\"marker\":{\"colorbar\":{\"outlinewidth\":0,\"ticks\":\"\"}}}],\"histogram\":[{\"marker\":{\"pattern\":{\"fillmode\":\"overlay\",\"size\":10,\"solidity\":0.2}},\"type\":\"histogram\"}],\"scattergl\":[{\"type\":\"scattergl\",\"marker\":{\"colorbar\":{\"outlinewidth\":0,\"ticks\":\"\"}}}],\"scatter3d\":[{\"type\":\"scatter3d\",\"line\":{\"colorbar\":{\"outlinewidth\":0,\"ticks\":\"\"}},\"marker\":{\"colorbar\":{\"outlinewidth\":0,\"ticks\":\"\"}}}],\"scattermapbox\":[{\"type\":\"scattermapbox\",\"marker\":{\"colorbar\":{\"outlinewidth\":0,\"ticks\":\"\"}}}],\"scatterternary\":[{\"type\":\"scatterternary\",\"marker\":{\"colorbar\":{\"outlinewidth\":0,\"ticks\":\"\"}}}],\"scattercarpet\":[{\"type\":\"scattercarpet\",\"marker\":{\"colorbar\":{\"outlinewidth\":0,\"ticks\":\"\"}}}],\"carpet\":[{\"aaxis\":{\"endlinecolor\":\"#2a3f5f\",\"gridcolor\":\"white\",\"linecolor\":\"white\",\"minorgridcolor\":\"white\",\"startlinecolor\":\"#2a3f5f\"},\"baxis\":{\"endlinecolor\":\"#2a3f5f\",\"gridcolor\":\"white\",\"linecolor\":\"white\",\"minorgridcolor\":\"white\",\"startlinecolor\":\"#2a3f5f\"},\"type\":\"carpet\"}],\"table\":[{\"cells\":{\"fill\":{\"color\":\"#EBF0F8\"},\"line\":{\"color\":\"white\"}},\"header\":{\"fill\":{\"color\":\"#C8D4E3\"},\"line\":{\"color\":\"white\"}},\"type\":\"table\"}],\"barpolar\":[{\"marker\":{\"line\":{\"color\":\"#E5ECF6\",\"width\":0.5},\"pattern\":{\"fillmode\":\"overlay\",\"size\":10,\"solidity\":0.2}},\"type\":\"barpolar\"}],\"pie\":[{\"automargin\":true,\"type\":\"pie\"}]},\"layout\":{\"autotypenumbers\":\"strict\",\"colorway\":[\"#636efa\",\"#EF553B\",\"#00cc96\",\"#ab63fa\",\"#FFA15A\",\"#19d3f3\",\"#FF6692\",\"#B6E880\",\"#FF97FF\",\"#FECB52\"],\"font\":{\"color\":\"#2a3f5f\"},\"hovermode\":\"closest\",\"hoverlabel\":{\"align\":\"left\"},\"paper_bgcolor\":\"white\",\"plot_bgcolor\":\"#E5ECF6\",\"polar\":{\"bgcolor\":\"#E5ECF6\",\"angularaxis\":{\"gridcolor\":\"white\",\"linecolor\":\"white\",\"ticks\":\"\"},\"radialaxis\":{\"gridcolor\":\"white\",\"linecolor\":\"white\",\"ticks\":\"\"}},\"ternary\":{\"bgcolor\":\"#E5ECF6\",\"aaxis\":{\"gridcolor\":\"white\",\"linecolor\":\"white\",\"ticks\":\"\"},\"baxis\":{\"gridcolor\":\"white\",\"linecolor\":\"white\",\"ticks\":\"\"},\"caxis\":{\"gridcolor\":\"white\",\"linecolor\":\"white\",\"ticks\":\"\"}},\"coloraxis\":{\"colorbar\":{\"outlinewidth\":0,\"ticks\":\"\"}},\"colorscale\":{\"sequential\":[[0.0,\"#0d0887\"],[0.1111111111111111,\"#46039f\"],[0.2222222222222222,\"#7201a8\"],[0.3333333333333333,\"#9c179e\"],[0.4444444444444444,\"#bd3786\"],[0.5555555555555556,\"#d8576b\"],[0.6666666666666666,\"#ed7953\"],[0.7777777777777778,\"#fb9f3a\"],[0.8888888888888888,\"#fdca26\"],[1.0,\"#f0f921\"]],\"sequentialminus\":[[0.0,\"#0d0887\"],[0.1111111111111111,\"#46039f\"],[0.2222222222222222,\"#7201a8\"],[0.3333333333333333,\"#9c179e\"],[0.4444444444444444,\"#bd3786\"],[0.5555555555555556,\"#d8576b\"],[0.6666666666666666,\"#ed7953\"],[0.7777777777777778,\"#fb9f3a\"],[0.8888888888888888,\"#fdca26\"],[1.0,\"#f0f921\"]],\"diverging\":[[0,\"#8e0152\"],[0.1,\"#c51b7d\"],[0.2,\"#de77ae\"],[0.3,\"#f1b6da\"],[0.4,\"#fde0ef\"],[0.5,\"#f7f7f7\"],[0.6,\"#e6f5d0\"],[0.7,\"#b8e186\"],[0.8,\"#7fbc41\"],[0.9,\"#4d9221\"],[1,\"#276419\"]]},\"xaxis\":{\"gridcolor\":\"white\",\"linecolor\":\"white\",\"ticks\":\"\",\"title\":{\"standoff\":15},\"zerolinecolor\":\"white\",\"automargin\":true,\"zerolinewidth\":2},\"yaxis\":{\"gridcolor\":\"white\",\"linecolor\":\"white\",\"ticks\":\"\",\"title\":{\"standoff\":15},\"zerolinecolor\":\"white\",\"automargin\":true,\"zerolinewidth\":2},\"scene\":{\"xaxis\":{\"backgroundcolor\":\"#E5ECF6\",\"gridcolor\":\"white\",\"linecolor\":\"white\",\"showbackground\":true,\"ticks\":\"\",\"zerolinecolor\":\"white\",\"gridwidth\":2},\"yaxis\":{\"backgroundcolor\":\"#E5ECF6\",\"gridcolor\":\"white\",\"linecolor\":\"white\",\"showbackground\":true,\"ticks\":\"\",\"zerolinecolor\":\"white\",\"gridwidth\":2},\"zaxis\":{\"backgroundcolor\":\"#E5ECF6\",\"gridcolor\":\"white\",\"linecolor\":\"white\",\"showbackground\":true,\"ticks\":\"\",\"zerolinecolor\":\"white\",\"gridwidth\":2}},\"shapedefaults\":{\"line\":{\"color\":\"#2a3f5f\"}},\"annotationdefaults\":{\"arrowcolor\":\"#2a3f5f\",\"arrowhead\":0,\"arrowwidth\":1},\"geo\":{\"bgcolor\":\"white\",\"landcolor\":\"#E5ECF6\",\"subunitcolor\":\"white\",\"showland\":true,\"showlakes\":true,\"lakecolor\":\"white\"},\"title\":{\"x\":0.05},\"mapbox\":{\"style\":\"light\"}}},\"xaxis\":{\"title\":{\"text\":\"n\"}},\"yaxis\":{\"title\":{\"text\":\"$O$\"}},\"showlegend\":true},                        {\"responsive\": true}                    ).then(function(){\n",
              "                            \n",
              "var gd = document.getElementById('f5086f5f-50b9-4b6d-9839-a67440f0136a');\n",
              "var x = new MutationObserver(function (mutations, observer) {{\n",
              "        var display = window.getComputedStyle(gd).display;\n",
              "        if (!display || display === 'none') {{\n",
              "            console.log([gd, 'removed!']);\n",
              "            Plotly.purge(gd);\n",
              "            observer.disconnect();\n",
              "        }}\n",
              "}});\n",
              "\n",
              "// Listen for the removal of the full notebook cells\n",
              "var notebookContainer = gd.closest('#notebook-container');\n",
              "if (notebookContainer) {{\n",
              "    x.observe(notebookContainer, {childList: true});\n",
              "}}\n",
              "\n",
              "// Listen for the clearing of the current output cell\n",
              "var outputEl = gd.closest('.output');\n",
              "if (outputEl) {{\n",
              "    x.observe(outputEl, {childList: true});\n",
              "}}\n",
              "\n",
              "                        })                };                            </script>        </div>\n",
              "</body>\n",
              "</html>"
            ]
          },
          "metadata": {}
        }
      ]
    },
    {
      "cell_type": "markdown",
      "source": [
        "# 2. **Algorithmic Warm-Up**"
      ],
      "metadata": {
        "id": "ks_KNRN6jXMe"
      }
    },
    {
      "cell_type": "markdown",
      "source": [
        "## 2.1 Fibonacci Series"
      ],
      "metadata": {
        "id": "sYfBlXMPjh7r"
      }
    },
    {
      "cell_type": "markdown",
      "source": [
        "### 2.1.1 Generate Large Fibonacci numbers"
      ],
      "metadata": {
        "id": "9rLaIKC7jmkx"
      }
    },
    {
      "cell_type": "markdown",
      "source": [
        "Reccursion leads to time complexity of $2^n$. Therefore the derived equation is used.<br>\n",
        "Equation : $\\frac{\\Phi^n- (-\\Phi^{-n})}{\\sqrt{5}}$  Where $\\Phi$ = $\\frac{(1+\\sqrt{5})}{2}$"
      ],
      "metadata": {
        "id": "fLfUdHqujvPo"
      }
    },
    {
      "cell_type": "code",
      "source": [
        "def fibonacci_number(n):\n",
        "    phi = (1+5**0.5)/2\n",
        "    return int((phi**n-(-phi)**(-n))/(5**0.5))"
      ],
      "metadata": {
        "id": "6Q4R_rQWj8Mc"
      },
      "execution_count": 3,
      "outputs": []
    },
    {
      "cell_type": "markdown",
      "source": [
        "### 2.1.2 Last Digit of a fibonacci number"
      ],
      "metadata": {
        "id": "gnehCwTJlHpl"
      }
    },
    {
      "cell_type": "markdown",
      "source": [
        "Theory : The last digit of a fibonacci number is repeated after every 60 numbers. Therefore the last digit of the $n^th$ fibonacci number can be represented as n = 60k+x."
      ],
      "metadata": {
        "id": "Mk3XGJeelOct"
      }
    },
    {
      "cell_type": "code",
      "source": [
        "def fibonacci_last_digit(n):\n",
        "    x = 0\n",
        "    # if n<= 60 => calculate the natural Fibonacci number\n",
        "    if n <= 60:\n",
        "        x = n\n",
        "    # if n > 60 ; assume the periodic behavior and find x\n",
        "    else:\n",
        "        while (n-x) % 60 != 0:\n",
        "            x += 1\n",
        "\n",
        "    phi = (1 + 5 ** 0.5) / 2\n",
        "    return int((phi ** x - (-phi) ** (-x)) / (5 ** 0.5)) % 10"
      ],
      "metadata": {
        "id": "uxvnrqi4lvqD"
      },
      "execution_count": 4,
      "outputs": []
    },
    {
      "cell_type": "markdown",
      "source": [
        "### 2.1.3 % on a fibonacci number\n",
        "\n",
        "Theory : Pisano period is used\n",
        "\n"
      ],
      "metadata": {
        "id": "f4TSwJDzn97E"
      }
    },
    {
      "cell_type": "code",
      "source": [
        "def pisanoPeriod(m):\n",
        "    previous, current = 0, 1\n",
        "    for i in range(0, m * m):\n",
        "        previous, current \\\n",
        "            = current, (previous + current) % m\n",
        "\n",
        "        # A Pisano Period starts with 01\n",
        "        if (previous == 0 and current == 1):\n",
        "            return i + 1\n",
        "\n",
        "\n",
        "# Calculate Fn mod m\n",
        "def fibonacci_huge_naive(n, m):\n",
        "    # Getting the period\n",
        "    pisano_period = pisanoPeriod(m)\n",
        "\n",
        "    # Taking mod of N with\n",
        "    # period length\n",
        "    n = n % pisano_period\n",
        "\n",
        "    previous, current = 0, 1\n",
        "    if n == 0:\n",
        "        return 0\n",
        "    elif n == 1:\n",
        "        return 1\n",
        "    for i in range(n - 1):\n",
        "        previous, current \\\n",
        "            = current, previous + current\n",
        "\n",
        "    return (current % m)"
      ],
      "metadata": {
        "id": "gERGXtKHoRfh"
      },
      "execution_count": 5,
      "outputs": []
    },
    {
      "cell_type": "markdown",
      "source": [
        "### 2.1.4 Last digit of $\\sum F_n$"
      ],
      "metadata": {
        "id": "ItdzqX7BoglQ"
      }
    },
    {
      "cell_type": "markdown",
      "source": [
        "Theory : last digit of the sum is only depends on the last digit of the each number"
      ],
      "metadata": {
        "id": "bQT7zugYojLW"
      }
    },
    {
      "cell_type": "code",
      "source": [
        "# Since last digit of a fibonacci number repeats revery 60\n",
        "def lastDigitofFino(x):\n",
        "    phi = (1 + 5 ** 0.5) / 2\n",
        "    return int((phi ** x - (-phi) ** (-x)) / (5 ** 0.5)) % 10\n",
        "\n",
        "\n",
        "def fibonacci_sum(n):\n",
        "    sum = 0\n",
        "    if n<60:\n",
        "        for i in range(n+1):\n",
        "            sum += lastDigitofFino(i)\n",
        "    else:\n",
        "        sumOfPeriod = 0\n",
        "        for i in range(61):\n",
        "            sumOfPeriod += lastDigitofFino(i)\n",
        "        # n = 60k+x\n",
        "        x = 0\n",
        "        sumoutPeriod = 0\n",
        "        while (n-x) % 60 != 0:\n",
        "            x += 1\n",
        "            sumoutPeriod += lastDigitofFino(x)\n",
        "\n",
        "        k = (n-x)/60\n",
        "        #Sum\n",
        "        sum = sumOfPeriod*k+sumoutPeriod\n",
        "\n",
        "    return int(sum%10)"
      ],
      "metadata": {
        "id": "1J4ioNbhom36"
      },
      "execution_count": 6,
      "outputs": []
    },
    {
      "cell_type": "markdown",
      "source": [
        "### 2.1.5 Last digit of $\\sum F_n^2$"
      ],
      "metadata": {
        "id": "6_Yzsctioxxb"
      }
    },
    {
      "cell_type": "code",
      "source": [
        "# Since last digit of a fibonacci number repeats revery 60\n",
        "def lastDigitofFinoSq(x):\n",
        "    phi = (1 + 5 ** 0.5) / 2\n",
        "    return (int((phi ** x - (-phi) ** (-x)) / (5 ** 0.5)) % 10)**2\n",
        "\n",
        "\n",
        "def fibonacci_sum_squares(n):\n",
        "    sum = 0\n",
        "    if n<60:\n",
        "        for i in range(n+1):\n",
        "            sum += lastDigitofFinoSq(i)\n",
        "    else:\n",
        "        sumOfPeriod = 0\n",
        "        for i in range(61):\n",
        "            sumOfPeriod += lastDigitofFinoSq(i)\n",
        "        # n = 60k+x\n",
        "        x = 0\n",
        "        sumoutPeriod = 0\n",
        "        while (n-x) % 60 != 0:\n",
        "            x += 1\n",
        "            sumoutPeriod += lastDigitofFinoSq(x)\n",
        "\n",
        "        k = (n-x)/60\n",
        "        #Sum\n",
        "        sum = sumOfPeriod*k+sumoutPeriod\n",
        "\n",
        "    return int(sum%10)\n"
      ],
      "metadata": {
        "id": "ARbTnnGJo9Jl"
      },
      "execution_count": 7,
      "outputs": []
    },
    {
      "cell_type": "code",
      "source": [
        "\n"
      ],
      "metadata": {
        "id": "ETk-y2Svijnd"
      },
      "execution_count": 7,
      "outputs": []
    },
    {
      "cell_type": "markdown",
      "source": [
        "## 2.2  GCD of two numbers\n",
        "Theory : Consider two numbers A,B and say A> B. <br> A = B.Q + R , GDC(A,B) = GDC(B,R). Where R is the A % B and can be repeated until R becomes 0."
      ],
      "metadata": {
        "id": "VGQPYQYimwC6"
      }
    },
    {
      "cell_type": "code",
      "source": [
        "def gcd(a, b):\n",
        "    # Euclidean Algorithm\n",
        "    temp_a = max(a,b)\n",
        "    temp_b = min(a,b)\n",
        "    # A = B.Q + R , GDC(A,B) = GDC(B,R)\n",
        "    while temp_b > 0:\n",
        "        R = temp_a % temp_b\n",
        "        temp_a = temp_b\n",
        "        temp_b = R\n",
        "    return temp_a\n",
        "gcd(15154081,516116499)"
      ],
      "metadata": {
        "colab": {
          "base_uri": "https://localhost:8080/"
        },
        "id": "DEnJot_SnSev",
        "outputId": "4520214d-ffcb-4e31-85f5-a0ceb067d549"
      },
      "execution_count": 8,
      "outputs": [
        {
          "output_type": "execute_result",
          "data": {
            "text/plain": [
              "1"
            ]
          },
          "metadata": {},
          "execution_count": 8
        }
      ]
    },
    {
      "cell_type": "markdown",
      "source": [
        "### 2.2.1 Least Common multiple of two numbers\n",
        "Theory : For a,b,c numbers, GCD(a,b) = x ,GCD(a,c) = Y,GCD(b,c) =z\n",
        "Least common multiple = a*b*c*/(x*y*z*)"
      ],
      "metadata": {
        "id": "cAexkjujnpKU"
      }
    },
    {
      "cell_type": "code",
      "source": [
        "def gcd(a, b):\n",
        "    # Euclidean Algorithm\n",
        "    temp_a = max(a,b)\n",
        "    temp_b = min(a,b)\n",
        "    # A = B.Q + R , GDC(A,B) = GDC(B,R)\n",
        "    while temp_b > 0:\n",
        "        R = temp_a % temp_b\n",
        "        temp_a = temp_b\n",
        "        temp_b = R\n",
        "    return int(temp_a)\n",
        "\n",
        "def lcm(a, b):\n",
        "    x = gcd(a,b)\n",
        "    return int(a*b/x)\n",
        "\n",
        "lcm(815,2146)"
      ],
      "metadata": {
        "colab": {
          "base_uri": "https://localhost:8080/"
        },
        "id": "1hwHILLbn0rN",
        "outputId": "4226c021-176c-4559-b2aa-e627112c1fed"
      },
      "execution_count": 9,
      "outputs": [
        {
          "output_type": "execute_result",
          "data": {
            "text/plain": [
              "1748990"
            ]
          },
          "metadata": {},
          "execution_count": 9
        }
      ]
    },
    {
      "cell_type": "markdown",
      "source": [
        "# 3. **Greedy Algorithms**"
      ],
      "metadata": {
        "id": "9fcgWBSV3QNB"
      }
    },
    {
      "cell_type": "markdown",
      "source": [
        "## 3.1 Introduction"
      ],
      "metadata": {
        "id": "mHY7kZxC4Yu_"
      }
    },
    {
      "cell_type": "markdown",
      "source": [
        "A greedy algorithm is a problem-solving approach that makes locally optimal choices at each step with the hope of finding a global optimum. **In other words, it makes the best choice available at the current moment without considering the future consequences**. Greedy algorithms are straightforward to implement and often provide efficient solutions for a wide range of problems.\n",
        "\n",
        "The key characteristic of a greedy algorithm is the greedy choice property. This property states that a locally optimal choice made at each step will lead to a globally optimal solution. However, it's important to note that the greedy approach does not guarantee the optimal solution in every case, and it requires careful analysis to ensure correctness."
      ],
      "metadata": {
        "id": "AhCkSCX_34KW"
      }
    },
    {
      "cell_type": "markdown",
      "source": [
        "## 3.2 Steps for Designing Greedy Algorithm"
      ],
      "metadata": {
        "id": "xvLB-IET4ciF"
      }
    },
    {
      "cell_type": "markdown",
      "source": [
        "\n",
        "1. **Step 1: Problem Identification**\n",
        "> Identify the problem that can be solved using a greedy algorithm. Look for specific characteristics of the problem that make it suitable for a greedy approach. Two important properties to consider are the **optimal substructure** and the **greedy choice property**. The optimal substructure property states that an optimal solution to the problem contains optimal solutions to its subproblems. The greedy choice property states that a locally optimal choice leads to a globally optimal solution.\n",
        "\n",
        "2. **Step 2: Define the Objective Function**\n",
        "> Clearly define the objective or goal of the problem. Understand what needs to be optimized or maximized/minimized. It could be finding the maximum or minimum value, minimizing the cost, maximizing the profit, etc. The objective function serves as a guiding principle for making choices during the algorithm's execution.\n",
        "\n",
        "3. **Step 3: Define the Greedy Choice**\n",
        "> Determine the criterion for making the greedy choice at each step. Identify the aspect of the problem where you can make a locally optimal choice. This choice should be made based on the current state of the problem without considering the future consequences. The greedy choice is typically based on a specific attribute or property of the elements being considered.\n",
        "\n",
        "4. **Step 4: Design the Algorithm**\n",
        "> Develop a step-by-step procedure that follows the greedy choice at each stage until the goal is reached. The algorithm should outline how to iteratively make the greedy choice and update the problem state accordingly. Define the data structures, variables, and any auxiliary functions required for the algorithm's implementation.\n",
        "\n",
        "5. **Step 5: Proof of Correctness**\n",
        ">Prove that the greedy algorithm produces an optimal solution. This step involves providing a formal proof or argument to show that the locally optimal choices made by the algorithm at each step lead to a globally optimal solution. The proof usually relies on the optimal substructure and the greedy choice property of the problem.\n",
        "\n",
        "6. **Step 6: Analyze the Time Complexity**\n",
        ">Analyze the time complexity of the algorithm to understand its efficiency. Determine the number of operations or iterations the algorithm requires to solve the problem. Consider the running time of each step and any loops involved. The time complexity helps assess the algorithm's efficiency and scalability.\n",
        "\n",
        "7. **Step 7: Test and Validate**\n",
        ">Implement the algorithm and test it on various inputs and problem instances. Verify that the algorithm produces the expected results and meets the desired objectives. Test it on both small and large input sizes to ensure its correctness and efficiency.\n",
        "\n",
        "8. **Step 8: Iterate and Optimize**\n",
        ">If necessary, iterate and optimize the algorithm to improve its efficiency or handle specific edge cases. Evaluate the algorithm's performance and make adjustments as needed. This step may involve refining the greedy choice, revisiting the objective function, or exploring alternative approaches.\n"
      ],
      "metadata": {
        "id": "QO2op5b24kaW"
      }
    },
    {
      "cell_type": "markdown",
      "source": [
        "##3.3 Advantages and Limitations"
      ],
      "metadata": {
        "id": "3YqdPGul5Qc0"
      }
    },
    {
      "cell_type": "markdown",
      "source": [
        "\n",
        "| Advantages                                  | Limitations                                      |\n",
        "| ------------------------------------------- | ------------------------------------------------ |\n",
        "| Simplicity and ease of implementation        | No guarantee of producing optimal solutions      |\n",
        "| Efficient solutions in many cases            | Suboptimal solutions may arise                   |\n",
        "| Intuitive and straightforward approach       | Limited flexibility in certain problem domains   |\n",
        "| Often provide quick approximate solutions    | Greedy choice may lead to locally optimal result |\n",
        "| Can be applied to a wide range of problems    | Requires careful analysis for correctness        |\n",
        "\n",
        "\n",
        "**Advantages:**\n",
        "\n",
        "1. Simplicity and ease of implementation: Greedy algorithms are often simple to understand and implement compared to more complex techniques.\n",
        "\n",
        "2. Efficient solutions in many cases: Greedy algorithms can provide efficient solutions in a wide range of problems, especially when the greedy choice property holds.\n",
        "\n",
        "3. Intuitive and straightforward approach: The greedy strategy of making locally optimal choices aligns with our common sense and intuition.\n",
        "\n",
        "4. Often provide quick approximate solutions: Greedy algorithms can quickly find approximate solutions that are usually close to the optimal solution.\n",
        "\n",
        "5. Can be applied to a wide range of problems: Greedy approaches are versatile and can be applied to various optimization problems.\n",
        "\n",
        "**Limitations:**\n",
        "\n",
        "1. No guarantee of producing optimal solutions: Greedy algorithms do not guarantee finding the globally optimal solution in every case. Careful analysis is necessary to ensure optimality.\n",
        "\n",
        "2. Suboptimal solutions may arise: Due to the greedy nature of the algorithm, it may overlook certain choices and lead to suboptimal solutions.\n",
        "\n",
        "3. Limited flexibility in certain problem domains: Greedy algorithms may not be suitable for problems that require considering complex dependencies or future consequences.\n",
        "\n",
        "4. Greedy choice may lead to locally optimal results: The locally optimal choices made at each step may not always lead to the best overall solution.\n",
        "\n",
        "5. Requires careful analysis for correctness: Designing a correct greedy algorithm requires a thorough understanding of the problem's properties and proof of optimality.\n"
      ],
      "metadata": {
        "id": "YkTZltGU-D3x"
      }
    },
    {
      "cell_type": "markdown",
      "source": [
        "## 3.4 Applications"
      ],
      "metadata": {
        "id": "7UCEeA8m-NSQ"
      }
    },
    {
      "cell_type": "markdown",
      "source": [
        "1. **Dijkstra's Algorithm:** \n",
        ">Dijkstra's algorithm is a famous greedy algorithm used to find the shortest path between nodes in a graph. It is commonly applied in route planning, network routing, and GPS navigation systems.\n",
        "\n",
        "2. **Minimum Spanning Tree:**\n",
        ">Greedy algorithms such as Kruskal's and Prim's algorithms are used to find the minimum spanning tree of a graph. This has applications in network design, cable layout, and clustering algorithms.\n",
        "\n",
        "3. **Job Scheduling:** \n",
        ">Greedy algorithms are used in job scheduling problems to allocate resources efficiently. Examples include tasks scheduling on processors, scheduling processes in an operating system, and scheduling jobs in cloud computing.\n",
        "\n",
        "4. **Huffman Coding:** \n",
        ">Huffman coding is a lossless data compression algorithm that assigns variable-length codes to characters based on their frequencies. It is widely used in file compression formats, such as ZIP and MP3, to achieve efficient data storage and transmission.\n",
        "\n",
        "5. **Activity Selection:** \n",
        ">The activity selection problem involves selecting the maximum number of non-overlapping activities. Greedy algorithms are used in scheduling tasks, class timetabling, and resource allocation problems.\n",
        "\n",
        "6. **Knapsack Problem:**  \n",
        "> In the fractional knapsack problem, a knapsack has a limited capacity, and items have different weights and values. Greedy algorithms are used to select items with the highest value-to-weight ratio to maximize the total value in the knapsack.\n",
        "\n",
        "7. **Interval Scheduling:** \n",
        ">Interval scheduling involves selecting a maximum number of non-overlapping intervals from a given set. It has applications in scheduling lectures, meetings, and resource allocation in time intervals.\n",
        "\n",
        "9. **Change Making:** \n",
        ">The change-making problem involves finding the minimum number of coins to make change for a given amount. Greedy algorithms are used to select the largest denomination coins first to minimize the total number of coins used."
      ],
      "metadata": {
        "id": "P9yvCEVQ-RMH"
      }
    },
    {
      "cell_type": "markdown",
      "source": [
        "## 3.5 Examples"
      ],
      "metadata": {
        "id": "h6_cYq5O-9cC"
      }
    },
    {
      "cell_type": "markdown",
      "source": [
        "### 3.5.1 Coin Change"
      ],
      "metadata": {
        "id": "bioxEFJj_zAB"
      }
    },
    {
      "cell_type": "code",
      "source": [
        "def make_change(coins, amount):\n",
        "    # Sort the coins in descending order\n",
        "    coins.sort(reverse=True)  \n",
        "    # Counter for the total number of coins used\n",
        "    num_coins = 0  \n",
        "    # Add the number of coins of the current denomination\n",
        "    for coin in coins:\n",
        "        num_coins += amount // coin  \n",
        "        # Calculate the remaining amount to be changed and update\n",
        "        amount %= coin  \n",
        "\n",
        "    if amount == 0:\n",
        "        #If completed\n",
        "        return num_coins\n",
        "    else:\n",
        "        # Change cannot be made with the given coins\n",
        "        return -1  \n",
        "\n",
        "# Example \n",
        "coins = [25, 10, 5, 1]  # Available coin List\n",
        "amount = 67  # The amount to be changed\n",
        "\n",
        "print(\"Minimum number of coins needed:\", make_change(coins, amount))"
      ],
      "metadata": {
        "id": "Oz9_E2xG__XI",
        "colab": {
          "base_uri": "https://localhost:8080/"
        },
        "outputId": "636f3706-c460-4de3-98f7-bc90a0d0cfef"
      },
      "execution_count": 10,
      "outputs": [
        {
          "output_type": "stream",
          "name": "stdout",
          "text": [
            "Minimum number of coins needed: 6\n"
          ]
        }
      ]
    },
    {
      "cell_type": "markdown",
      "source": [
        "\n",
        "The available coin types list are provided in a list called `coins`. The variable `amount` represents the amount of money need to be changed.\n",
        "\n",
        "Note that the greedy algorithm for the money change problem works correctly when the available coins have the \"greedy choice property,\" meaning that selecting the largest coin at each step leads to an optimal solution. \n"
      ],
      "metadata": {
        "id": "EVL9jwOQ_26V"
      }
    },
    {
      "cell_type": "markdown",
      "source": [
        "### 3.5.2 The Fractional Knapsack algorithm ~ Max Loot"
      ],
      "metadata": {
        "id": "NiZMIh6pAucH"
      }
    },
    {
      "cell_type": "markdown",
      "source": [
        " Items have both a value (For the whole quantity) and a weight, and the goal is to maximize the total value of items in the knapsack without exceeding its weight capacity."
      ],
      "metadata": {
        "id": "2Zvnb_wOBCEk"
      }
    },
    {
      "cell_type": "code",
      "source": [
        "from operator import itemgetter\n",
        "\n",
        "def optimal_value( capacity, weights, values):\n",
        "    # Total Loot value holder\n",
        "    value = 0.\n",
        "    # Values per kg\n",
        "    updatedValues = []\n",
        "\n",
        "    # For single inputs ~ only one type of loot is aveilable\n",
        "    if type(values) != list :\n",
        "        return (min(capacity,weights))*(values/weights)\n",
        "    # If a list\n",
        "    n = len(values)\n",
        "    # Loop through each element and construct a 2d list containing [value per kg , weight]\n",
        "    for i in range(n):\n",
        "        updatedValues.append([values[i]/weights[i] , weights[i]])\n",
        "    # Sort the 2d list according to the per Kg Value ~ Max to Min\n",
        "    updatedValues = sorted(updatedValues, key=lambda x: x[0], reverse=True)\n",
        "\n",
        "    # Collect the loots ~ Safest choice is maximum possible loot from max per kg item\n",
        "    for i in updatedValues:\n",
        "        # Get the max possible weight ~ minimum from (Capacity , item availability)\n",
        "        selectedWeight = min(i[1], capacity)\n",
        "        # Update the loot value\n",
        "        value += selectedWeight*i[0]\n",
        "        # Update the available capacity\n",
        "        capacity -= selectedWeight\n",
        "        # Once capacity reachs its maximum , stop the loot\n",
        "        if capacity == 0:\n",
        "            break\n",
        "\n",
        "    return value\n",
        "\n",
        "print(\"Max Loot is\" , optimal_value( 50, [20,50,30],[60,100,120]))"
      ],
      "metadata": {
        "colab": {
          "base_uri": "https://localhost:8080/"
        },
        "id": "Lp5GTqIwBLk7",
        "outputId": "e639fa9e-a048-48df-f05b-45a53d23ed79"
      },
      "execution_count": 11,
      "outputs": [
        {
          "output_type": "stream",
          "name": "stdout",
          "text": [
            "Max Loot is 180.0\n"
          ]
        }
      ]
    },
    {
      "cell_type": "markdown",
      "source": [],
      "metadata": {
        "id": "3PDuSl51DwsF"
      }
    },
    {
      "cell_type": "markdown",
      "source": [
        "### 3.5.3 Dijkstra's Algorithm (TBD)"
      ],
      "metadata": {
        "id": "j4bchTd3BK2j"
      }
    },
    {
      "cell_type": "markdown",
      "source": [
        "### 3.5.4 Minimum Spanning Tree (TBD)"
      ],
      "metadata": {
        "id": "xuG4qN6Qd20D"
      }
    },
    {
      "cell_type": "markdown",
      "source": [
        "### 3.5.5 Job Scheduling (TBD)"
      ],
      "metadata": {
        "id": "MHKbG5lCeBhA"
      }
    },
    {
      "cell_type": "markdown",
      "source": [
        "# 4. **Divide and Conquer Algorithms**"
      ],
      "metadata": {
        "id": "657Uz_zleaYK"
      }
    },
    {
      "cell_type": "markdown",
      "source": [
        "##4.1 Introduction"
      ],
      "metadata": {
        "id": "r_yTzxW6fXte"
      }
    },
    {
      "cell_type": "markdown",
      "source": [
        "The Divide and Conquer algorithm is a problem-solving approach that breaks down a complex problem into smaller subproblems, solves them **recursively**, and combines their solutions to obtain the final result. It follows a three-step process: Divide, Conquer, and Combine. This algorithm is particularly useful for **solving problems that can be divided into independent subproblems**."
      ],
      "metadata": {
        "id": "O96lu2MtfaaE"
      }
    },
    {
      "cell_type": "markdown",
      "source": [
        "## 4.2 Steps for Designing a Divide and Conquer Algorithm"
      ],
      "metadata": {
        "id": "CYsVOXpHfj7v"
      }
    },
    {
      "cell_type": "markdown",
      "source": [
        "\n",
        "1. **Identify the Problem**: \n",
        ">Clearly understand the problem  need to solve and identify if it can be divided into smaller subproblems. Determine the characteristics and constraints of the problem.\n",
        "\n",
        "2. **Define the Base Case**: \n",
        ">Determine the simplest form of the problem that can be solved directly without further division. This serves as the base case for the recursive algorithm.\n",
        "\n",
        "3. **Divide the Problem**: \n",
        ">Identify how to divide the original problem into smaller subproblems. Determine the approach to partition the input data or divide it into smaller instances.\n",
        "\n",
        "4. **Recursively Solve Subproblems**: \n",
        ">Apply the Divide and Conquer algorithm recursively on each subproblem obtained from the division step. Call the algorithm on each subproblem until reaching the base case.\n",
        "\n",
        "5. **Combine Subproblem Solutions**: \n",
        ">Determine how to combine the solutions of the subproblems to obtain the final solution for the original problem. Define the combining step, where the results of the subproblems are merged or integrated.\n",
        "\n",
        "6. **Design the Algorithm**: \n",
        ">Based on the above steps, design the Divide and Conquer algorithm. Define the recursive function or subroutine that handles the division, recursion, and combination of subproblems.\n",
        "\n",
        "7. **Implement the Algorithm**: \n",
        ">Implement the algorithm in the chosen programming language. Translate the design into executable code, including the base case, division, recursion, and combination steps.\n",
        "\n",
        "8. **Test and Validate**: \n",
        ">Test the algorithm implementation using various test cases, including both small and large inputs. Verify that the algorithm produces correct results and meets the requirements of the original problem.\n",
        "\n",
        "9. **Analyze Complexity**: \n",
        ">Analyze the time and space complexity of the Divide and Conquer algorithm. Determine the efficiency of the algorithm based on the characteristics of the problem and the subproblem solutions.\n",
        "\n",
        "10. **Optimize if Needed**: \n",
        ">Identify possible optimizations to improve the algorithm's efficiency, such as reducing redundant computations or optimizing the combining step. Evaluate the trade-offs between complexity and performance.\n"
      ],
      "metadata": {
        "id": "QXCr7ZwygFSN"
      }
    },
    {
      "cell_type": "markdown",
      "source": [
        "## 4.3 Advantages and Limitations"
      ],
      "metadata": {
        "id": "9wuogckegZGd"
      }
    },
    {
      "cell_type": "markdown",
      "source": [
        "\n",
        "| Advantages                                 | Limitations                                  |\n",
        "|--------------------------------------------|----------------------------------------------|\n",
        "| Efficient solution for large problems      | Overhead due to recursion and combining step  |\n",
        "| Modular and organized code structure       | Problems with dependencies between subproblems|\n",
        "| Potential for parallelization              | Optimality depends on subproblem solutions    |\n",
        "| Reduces computational complexity           | Difficulty in identifying base case          |\n",
        "| Enables divide and conquer parallelism     | Possible trade-offs between complexity and performance |\n",
        "| Solves a wide range of problems            | Difficulty in finding optimal dividing strategy |\n",
        "| Enables code reuse and modularity          | Potential for stack overflow in deep recursion |\n",
        "\n",
        "\n",
        "\n",
        "**Advantages:**\n",
        "- **Efficient solution for large problems**: Divide and Conquer algorithms can provide efficient solutions for large problems by breaking them down into smaller, more manageable subproblems.\n",
        "- **Modular and organized code structure**: The algorithm promotes modular and organized code structure by dividing the problem into smaller, independent parts.\n",
        "- **Potential for parallelization**: The independent nature of subproblems makes it easier to parallelize the algorithm, allowing for efficient utilization of multiple processors or threads.\n",
        "- **Reduces computational complexity**: The algorithm reduces the computational complexity of a problem by dividing it into smaller instances.\n",
        "- **Enables divide and conquer parallelism**: Divide and Conquer algorithms can be easily parallelized to exploit parallel computing resources.\n",
        "- **Solves a wide range of problems**: The Divide and Conquer approach is applicable to various problem domains, allowing for a versatile problem-solving technique.\n",
        "- **Enables code reuse and modularity**: The modular nature of the algorithm promotes code reuse, as subproblems can be solved independently.\n",
        "\n",
        "**Limitations:**\n",
        "- **Overhead due to recursion and combining step**: The recursive nature of the algorithm can introduce additional overhead, such as function calls and merging results, which can impact performance.\n",
        "- **Problems with dependencies between subproblems**: If subproblems have dependencies on each other, it may be challenging to apply the Divide and Conquer approach effectively.\n",
        "- **Optimality depends on subproblem solutions**: The optimality of the overall solution relies on the optimality of the subproblem solutions and the combining step, which may not always be guaranteed.\n",
        "- **Difficulty in identifying base case**: Determining the base case, where the problem can be solved directly without further division, can be challenging for some problems.\n",
        "- **Possible trade-offs between complexity and performance**: Optimizing the Divide and Conquer algorithm may involve trade-offs between complexity and performance.\n",
        "- **Difficulty in finding optimal dividing strategy**: Identifying the optimal strategy for dividing the problem into subproblems can be challenging in some cases.\n",
        "- **Potential for stack overflow in deep recursion**: Deep recursion in the Divide and Conquer algorithm can lead to stack overflow errors, particularly if not handled properly.\n"
      ],
      "metadata": {
        "id": "P1gr6xFHgvvC"
      }
    },
    {
      "cell_type": "markdown",
      "source": [
        "## 4.4 Recursion vs Looping"
      ],
      "metadata": {
        "id": "W6Ka-yNQg0w2"
      }
    },
    {
      "cell_type": "markdown",
      "source": [
        "\n",
        "\n",
        "| Performance Aspect                  | Recursion                                | Looping                                  |\n",
        "|------------------------------------|------------------------------------------|------------------------------------------|\n",
        "| Memory Usage                       | Requires additional memory for function calls and maintaining the call stack | Requires less memory as there is no need for function calls and maintaining the call stack |\n",
        "| Overhead                           | Can introduce overhead due to function calls and maintaining the call stack | Generally has lower overhead as there are no function calls involved |\n",
        "| Execution Speed                    | May be slower due to the overhead of function calls and stack management | Generally faster as it avoids the overhead of function calls and stack management |\n",
        "| Stack Overflow Risk                | Prone to stack overflow errors if not properly managed or the recursion depth is too large | No risk of stack overflow errors |\n",
        "| Tail Recursion Optimization        | Some programming languages/compilers support tail recursion optimization, which eliminates stack usage for tail-recursive calls | Not applicable |\n",
        "| Problem Suitability                | Well-suited for problems that can be naturally expressed in a recursive manner or have a hierarchical structure | Suitable for repetitive tasks or iterating over collections/sequences |\n",
        "| Code Readability                   | Can make code more concise and easier to understand when applied appropriately | May require additional code for loop control and tracking, but can be straightforward |\n",
        "| Handling Complex Data Structures   | Often suitable for problems with complex, hierarchical data structures | Can handle complex data structures but may require more explicit iteration logic |\n",
        "| Parallelization                    | Recursive algorithms can be difficult to parallelize due to dependencies between subproblems | Loops can be more easily parallelized to take advantage of parallel computing resources |\n",
        "\n"
      ],
      "metadata": {
        "id": "IvfCyh7thKvW"
      }
    },
    {
      "cell_type": "markdown",
      "source": [
        "##4.5 Applications"
      ],
      "metadata": {
        "id": "Ptkw4RlOijyu"
      }
    },
    {
      "cell_type": "markdown",
      "source": [
        "\n",
        "\n",
        "1. **Sorting Algorithms:** \n",
        ">Divide and Conquer algorithms are commonly employed in sorting algorithms such as Merge Sort, Quick Sort, and Heap Sort. These algorithms recursively divide the input array into smaller subarrays, sort them independently, and then combine the sorted subarrays to obtain the final sorted array.\n",
        "\n",
        "2.** Searching Algorithms:** \n",
        ">Binary Search, a popular searching algorithm, follows the Divide and Conquer approach. It divides the search space in half at each step, reducing the search range until the target element is found or deemed absent.\n",
        "\n",
        "3. **Graph Algorithms:**\n",
        "> Many graph algorithms utilize the Divide and Conquer technique. For example, Depth-First Search (DFS) and Breadth-First Search (BFS) can be implemented using Divide and Conquer principles to explore and traverse graphs efficiently.\n",
        "\n",
        "4. **Matrix Operations:** \n",
        ">Matrix operations like matrix multiplication, exponentiation, and inversion often employ Divide and Conquer strategies. These operations divide the matrices into smaller submatrices, perform operations on the submatrices recursively, and combine the results to obtain the final result.\n",
        "\n",
        "5. **Computational Geometry:** \n",
        ">Many geometric algorithms, such as finding the closest pair of points, convex hull construction, and line segment intersection, utilize the Divide and Conquer approach. These algorithms divide the problem into smaller subproblems, solve them recursively, and then merge the solutions.\n",
        "\n",
        "6. **Numerical Methods:** \n",
        "> Various numerical methods leverage the Divide and Conquer technique to solve mathematical problems efficiently. Examples include Newton's method for finding roots of equations and the Fast Fourier Transform (FFT) algorithm for efficient polynomial multiplication and signal processing.\n",
        "\n",
        "7. **Game Theory:** \n",
        "> Game theory algorithms, such as Minimax and Alpha-Beta pruning used in game-playing AI, make use of Divide and Conquer principles to analyze the possible game states and make optimal decisions.\n",
        "\n",
        "8. **Parallel Computing:** \n",
        "> Divide and Conquer algorithms lend themselves well to parallel computing. By dividing the problem into independent subproblems, each subproblem can be solved concurrently on different processors or threads, leading to improved efficiency and performance.\n"
      ],
      "metadata": {
        "id": "mmzdXQ6xjall"
      }
    },
    {
      "cell_type": "markdown",
      "source": [
        "## 4.6 Examples"
      ],
      "metadata": {
        "id": "r2-x3x0dj1pq"
      }
    },
    {
      "cell_type": "markdown",
      "source": [
        "### 4.6.1 Binary Search"
      ],
      "metadata": {
        "id": "LnndPlTGj7jS"
      }
    },
    {
      "cell_type": "markdown",
      "source": [
        "#### 4.6.1.1 Algorithm Introduction"
      ],
      "metadata": {
        "id": "1ZKl1eJullJe"
      }
    },
    {
      "cell_type": "markdown",
      "source": [
        "\n",
        "1. **Initialization**: \n",
        ">Start with the entire **sorted array**.\n",
        "\n",
        "2. **Find the middle element**: \n",
        ">Calculate the index of the middle element in the current range. If the length of the range is even, choose the left middle element.\n",
        ">\n",
        "> ```vb\n",
        "> Example: Array [2, 4, 7, 11, 15, 19, 21]\n",
        ">          Search for target value: 15\n",
        ">          Initial range: [0, 6]\n",
        ">\n",
        ">          Step 1:\n",
        ">          Middle index: (0 + 6) // 2 = 3\n",
        ">          Middle element: 11\n",
        "> ```\n",
        "\n",
        "3. **Compare the middle element with the target**: \n",
        ">Compare the middle element with the target value.\n",
        ">\n",
        "> ```vb\n",
        "> Example: Step 2:\n",
        ">          Target value: 15\n",
        "> \n",
        ">          Step 3:\n",
        ">          Compare 11 (middle element) with 15 (target)\n",
        ">          11 < 15\n",
        "> ```\n",
        "\n",
        "4. **Update the search range**: \n",
        ">Based on the comparison, update the search range to the left or right half of the current range.\n",
        ">\n",
        ">   - If the middle element is smaller than the target, discard the left half of the current range.\n",
        ">   - If the middle element is larger than the target, discard the right half of the current range.\n",
        ">\n",
        "> ```vb\n",
        "> Example: Step 4:\n",
        ">          Since 11 < 15, update the range to the right half: [4, 6]\n",
        "> ```\n",
        "\n",
        "5. **Repeat steps 2-4**: \n",
        "> Repeat steps 2-4 until either the target value is found or the range becomes empty.\n",
        ">\n",
        "> ```vb\n",
        "> Example: Step 2:\n",
        ">          New range: [4, 6]\n",
        ">          Middle index: (4 + 6) // 2 = 5\n",
        ">          Middle element: 19\n",
        "> \n",
        ">          Step 3:\n",
        ">          Compare 19 (middle element) with 15 (target)\n",
        ">          19 > 15\n",
        "> \n",
        ">          Step 4:\n",
        ">          Since 19 > 15, update the range to the left half: [4, 4]\n",
        "> \n",
        ">          Step 2:\n",
        ">          New range: [4, 4]\n",
        ">          Middle index: (4 + 4) // 2 = 4\n",
        ">          Middle element: 15\n",
        "> \n",
        ">          Step 3:\n",
        ">          Compare 15 (middle element) with 15 (target)\n",
        ">          15 = 15\n",
        "> ```\n",
        "\n",
        "6. **Target found**: \n",
        ">If the middle element is equal to the target, we have found the target value.\n",
        ">\n",
        "> ```sql\n",
        "> Example: Step 6:\n",
        ">          Target value (15) found at index 4.\n",
        "> ```\n",
        "\n",
        "\n",
        "\n",
        "Binary Search is an efficient algorithm with a time complexity of O(log n) since it eliminates half of the remaining search space at each step.\n"
      ],
      "metadata": {
        "id": "qiEKM50xkC8m"
      }
    },
    {
      "cell_type": "markdown",
      "source": [
        "#### 4.6.1.2 Implementation"
      ],
      "metadata": {
        "id": "-H0pmZGRlbRk"
      }
    },
    {
      "cell_type": "code",
      "source": [
        "def binarySearch(searchList, searchValue, minIndex, maxIndex):\n",
        "    # Get the mid-point index Value\n",
        "    midPoint = (minIndex + maxIndex)//2\n",
        "\n",
        "    # If the mid-point element of the search list is equal to the seachValue => return the index\n",
        "    if searchList[midPoint] == searchValue:\n",
        "        return midPoint\n",
        "    else:\n",
        "        # For not Found Termination\n",
        "        if minIndex >= maxIndex:\n",
        "            return -1\n",
        "        if searchList[midPoint] < searchValue:\n",
        "            # If In right-hand side\n",
        "            return binarySearch(searchList, searchValue, midPoint + 1, maxIndex)\n",
        "        else:\n",
        "            # If in left-hand side\n",
        "            return binarySearch(searchList, searchValue, minIndex, midPoint - 1)\n",
        "\n",
        "print(\"Index : \", binarySearch([2, 4, 7, 11, 15, 19, 21],15,0,6))"
      ],
      "metadata": {
        "colab": {
          "base_uri": "https://localhost:8080/"
        },
        "id": "IBe8bVHjlpkj",
        "outputId": "e30ede0c-62c4-4a4c-e841-f925cb5d2942"
      },
      "execution_count": 12,
      "outputs": [
        {
          "output_type": "stream",
          "name": "stdout",
          "text": [
            "Index :  4\n"
          ]
        }
      ]
    },
    {
      "cell_type": "markdown",
      "source": [
        "#### 4.6.1.3 Midification For Duplicate Elements"
      ],
      "metadata": {
        "id": "o5Ne3WKFVXYi"
      }
    },
    {
      "cell_type": "markdown",
      "source": [
        "Consider a List [0 0 0 1 2 3 3 4 4 4 4 5 6 8] \n",
        "\n",
        "1. Get the middle element and compare:\n",
        "> Middle index = (0 + 13 ) // 2   => 6 <br>\n",
        "> Middle element = 3\n",
        "\n",
        "2. Since it is not equal to the search value, Pass the right half to the binary search algorithm\n",
        "> [4 4 4 4 5 6 8] is passed. <br>\n",
        "> middle Element = 4 which is equal to the search value. <br>\n",
        "\n",
        "3. Since we are searching for the minimum index of the search value occurence, Then the left half should be passed again. \n",
        "> [4 4 4] is passed. <br>\n",
        "> middle element = 4 \n",
        "4. ..... continue\n",
        "\n",
        "\n"
      ],
      "metadata": {
        "id": "f2WoeX-6VjNu"
      }
    },
    {
      "cell_type": "code",
      "source": [
        "def binarySearch(searchList, searchValue, minIndex, maxIndex):\n",
        "    # Get the mid-point index Value\n",
        "    midPoint = (minIndex + maxIndex)//2\n",
        "\n",
        "    # If the mid-point element of the search list is equal to the seachValue => return the index\n",
        "    if searchList[midPoint] == searchValue:\n",
        "        # Modification Is needed when found an index and index-1 is also contain the searchValue\n",
        "        if midPoint == 0:\n",
        "            # since no elements indexed below 0\n",
        "            return midPoint\n",
        "        if searchList[midPoint-1] != searchValue:\n",
        "            # When there is no **Minimum-side** duplicates\n",
        "            return midPoint\n",
        "        else:\n",
        "            # When there is re-occurrences indexed below than the selected value\n",
        "            return binarySearch(searchList,searchValue,minIndex,midPoint-1)\n",
        "\n",
        "    else:\n",
        "        # For not Found Termination\n",
        "        if minIndex >= maxIndex:\n",
        "            return -1\n",
        "        if searchList[midPoint] < searchValue:\n",
        "            # If In right-hand side\n",
        "            return binarySearch(searchList, searchValue, midPoint + 1, maxIndex)\n",
        "        else:\n",
        "            # If in left-hand side\n",
        "            return binarySearch(searchList, searchValue, minIndex, midPoint - 1)\n",
        "\n"
      ],
      "metadata": {
        "id": "bnpNsSJcVjtS"
      },
      "execution_count": 13,
      "outputs": []
    },
    {
      "cell_type": "markdown",
      "source": [
        "#### 4.6.1.4 Check For a Majority Element"
      ],
      "metadata": {
        "id": "ZruAXuWZIMRu"
      }
    },
    {
      "cell_type": "markdown",
      "source": [
        "To identify the dominant element in an array, (defined as an element that occurs more than n/2 times) where n represents the total number of elements in the array. By following a carefully designed binary search approach, this algorithm determines whether such a dominant element exists within the array.\n",
        "\n",
        "**Algorithm Workflow**\n",
        "\n",
        "**Step 1: Midpoint Value**\n",
        ">  Obtain the value of the (n/2 + 1)th element, denoted as the midpoint value. This step aims to identify a potential candidate for the dominant element.\n",
        "\n",
        "**Step 2: Binary Search**\n",
        ">  Using the modified binary search algorithm to locate the minimum index of the midpoint value within the array. This step helps determine the first occurrence of the midpoint value, as the dominant element should be present at least n/2 + 1 times in the array.\n",
        "\n",
        "**Step 3: Occurrence Validation**\n",
        ">  Verify whether the identified element satisfies the condition of having at least n/2 + 1 occurrences. To meet this requirement, the element should repeat at least n/2 times after its initial occurrence. This validation ensures the dominant element's presence within the array.\n",
        "\n",
        "**Step 4: Result Reporting**\n",
        "> Assess the upper and lower bounds obtained from the binary search. If the identified element satisfies the occurrence condition, return 1 to indicate the presence of a dominant element. Otherwise, return 0 to indicate the absence of such an element."
      ],
      "metadata": {
        "id": "TgFJ87OyIXYo"
      }
    },
    {
      "cell_type": "code",
      "source": [
        "def majority_element_naive(elements, n):\n",
        "    # Sort elements\n",
        "    elements.sort()\n",
        "    # Get the mid-point ~> If there is a majority element in an array, it should be also in the mid-element\n",
        "    midPoint = 0\n",
        "    if n % 2 == 0:\n",
        "        # Even Case\n",
        "        midPoint = int(n / 2 )\n",
        "    else:\n",
        "        midPoint = int((n + 1) / 2) -1\n",
        "\n",
        "    # get the mid-point element's first occurrence\n",
        "    firstOccurrence = binarySearch(elements, elements[midPoint], 0, n-1)\n",
        "    # Assuming there is a majority element , get the last occurrence if so\n",
        "    lastOccurrence = firstOccurrence + midPoint\n",
        "    # check the length coverage requirement satisfies\n",
        "    if lastOccurrence > n-1:\n",
        "        return 0\n",
        "    elif elements[lastOccurrence] == elements[firstOccurrence]:\n",
        "        return 1\n",
        "    else:\n",
        "        return 0\n",
        "\n",
        "def binarySearch(searchList, searchValue, minIndex, maxIndex):\n",
        "    # Get the mid-point index Value\n",
        "    midPoint = (minIndex + maxIndex) // 2\n",
        "    # If the mid-point element of the search list is equal to the seachValue => return the index\n",
        "    if searchList[midPoint] == searchValue:\n",
        "        # Modification Is needed when found an index and index-1 is also contain the searchValue\n",
        "        if midPoint == 0:\n",
        "            # since no elements indexed below 0\n",
        "            return midPoint\n",
        "        if searchList[midPoint - 1] != searchValue:\n",
        "            # When there is no **Minimum-side** duplicates\n",
        "            return midPoint\n",
        "        else:\n",
        "            # When there is re-occurrences indexed below than the selected value\n",
        "            return binarySearch(searchList, searchValue, minIndex, midPoint - 1)\n",
        "\n",
        "    else:\n",
        "        # For not Found Termination\n",
        "        if minIndex >= maxIndex:\n",
        "            return -1\n",
        "        if searchList[midPoint] < searchValue:\n",
        "            # If In right-hand side\n",
        "            return binarySearch(searchList, searchValue, midPoint + 1, maxIndex)\n",
        "        else:\n",
        "            # If in left-hand side\n",
        "            return binarySearch(searchList, searchValue, minIndex, midPoint - 1)\n",
        "\n",
        "listToCheck = [6,2,9,0,1,6,3,3,4,6,6,5,5,5,6,6,6,6,6,6,6,6,6,8,9,8,6]\n",
        "n = len(listToCheck)\n",
        "print(majority_element_naive(listToCheck, n))"
      ],
      "metadata": {
        "colab": {
          "base_uri": "https://localhost:8080/"
        },
        "id": "Km2E8ZJsIL7W",
        "outputId": "c17e943c-22b2-43ed-d2fc-4fc0767bbfbc"
      },
      "execution_count": 17,
      "outputs": [
        {
          "output_type": "stream",
          "name": "stdout",
          "text": [
            "1\n"
          ]
        }
      ]
    },
    {
      "cell_type": "markdown",
      "source": [
        "### 4.6.2 Polynomial Multiplication"
      ],
      "metadata": {
        "id": "_bQCXorm0w9W"
      }
    },
    {
      "cell_type": "markdown",
      "source": [
        "####  4.6.2.1 Algorithm Introduction"
      ],
      "metadata": {
        "id": "GPzoMAhh01XI"
      }
    },
    {
      "cell_type": "markdown",
      "source": [
        "**1. Polynomial Multiplication:**\n",
        "Polynomial multiplication is the process of multiplying two polynomials to obtain a new polynomial that represents their product. Given two polynomials:\n",
        "\n",
        "> A(x) = a₀ + a₁x + a₂x² + ... + aₙxⁿ\n",
        ">\n",
        "> B(x) = b₀ + b₁x + b₂x² + ... + bₘxᵐ\n",
        ">\n",
        ">The product C(x) = A(x) * B(x) is obtained by multiplying each term of A(x) with each term of B(x) and combining like terms. The resulting polynomial has a degree of (n + m).\n",
        "\n",
        "**2. Naive Divide and Conquer Algorithm for Polynomial Multiplication:**\n",
        "The naive divide and conquer algorithm for polynomial multiplication follows a divide and conquer approach to efficiently multiply two polynomials. The steps of the algorithm are as follows:\n",
        "\n",
        "> - **Base Case:** If the degrees of the polynomials A(x) and B(x) are both zero, simply multiply their constant terms and return the result.\n",
        "> - **Divide:** Divide each polynomial A(x) and B(x) into two halves by splitting them at the middle term. This results in four subpolynomials: A₁(x), A₂(x), B₁(x), and B₂(x).\n",
        "> - **Conquer:** Recursively multiply A₁(x) with B₁(x) to obtain P₁(x), multiply A₂(x) with B₂(x) to obtain P₂(x), and multiply (A₁(x) + A₂(x)) with (B₁(x) + B₂(x)) to obtain P₃(x).\n",
        "> - **Combine:** The product polynomial C(x) = P₁(x) * x^(n/2) + (P₃(x) - P₁(x) - P₂(x)) * x^(n/2) + P₂(x) represents the product of A(x) and B(x), where n is the degree of the original polynomials.\n",
        "\n",
        "**Mathematical Examples:**\n",
        "> Let's consider an example to demonstrate the naive divide and conquer algorithm for polynomial multiplication.\n",
        "> \n",
        "> Example 1:\n",
        "> A(x) = 3 + 2x + 4x²\n",
        "> B(x) = 1 + 5x + 2x²\n",
        "> \n",
        "> We can perform polynomial multiplication using the naive divide and conquer algorithm as follows:\n",
        "> \n",
        "> Step 1: Divide\n",
        "> A₁(x) = 3, A₂(x) = 2x + 4x²\n",
        "> B₁(x) = 1, B₂(x) = 5x + 2x²\n",
        "> \n",
        "> Step 2: Conquer\n",
        "> P₁(x) = A₁(x) * B₁(x) = 3 * 1 = 3\n",
        "> P₂(x) = A₂(x) * B₂(x) = (2x + 4x²) * (5x + 2x²) = 10x³ + 4x⁴ + 20x² + 8x³\n",
        "> P₃(x) = (A₁(x) + A₂(x)) * (B₁(x) + B₂(x)) = (3 + 2x + 4x²) * (1 + 5x + 2x²) = 3 + 17x + 38x² + 8x³\n",
        ">\n",
        "> Step 3: Combine\n",
        "> C(x) = P₁(x) * x² + (P₃(x) - P₁(x) - P₂(x)) * x² +\n",
        ">\n",
        "> P₂(x) = 3x² + 5x³ + 2x⁴ + 15x² + 20x³ + 8x⁴ + 10x³ + 4x⁴ + 20x² + 8x³ = 2x⁴ + 29x³ + 38x² + 20x\n",
        ">\n",
        "> Therefore, the product of A(x) and B(x) is C(x) = 2x⁴ + 29x³ + 38x² + 20x.\n"
      ],
      "metadata": {
        "id": "T43b-Tuvx3nY"
      }
    }
  ]
}